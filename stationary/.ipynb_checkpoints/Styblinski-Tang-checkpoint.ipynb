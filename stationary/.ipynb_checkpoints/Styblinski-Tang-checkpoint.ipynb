{
 "cells": [
  {
   "cell_type": "code",
   "execution_count": 28,
   "id": "35abd2ee-b095-4c19-833f-c42dc4b15bc5",
   "metadata": {},
   "outputs": [
    {
     "name": "stdout",
     "output_type": "stream",
     "text": [
      "2022-01-15 15:28:46.135821 use GPU; core:0\n"
     ]
    },
    {
     "name": "stderr",
     "output_type": "stream",
     "text": [
      "/home1/ibayashi/anaconda3/lib/python3.7/site-packages/ipykernel_launcher.py:115: MatplotlibDeprecationWarning: Adding an axes using the same arguments as a previous axes currently reuses the earlier instance.  In a future version, a new instance will always be created and returned.  Meanwhile, this warning can be suppressed, and the future behavior ensured, by passing a unique label to each axes instance.\n"
     ]
    },
    {
     "data": {
      "image/png": "[encoded data removed]",
      "text/plain": [
       "<Figure size 432x288 with 1 Axes>"
      ]
     },
     "metadata": {
      "needs_background": "light"
     },
     "output_type": "display_data"
    }
   ],
   "source": [
    "#!/usr/bin/env python\n",
    "# coding: utf-8\n",
    "from utility import *\n",
    "# ------------------------------------------------------\n",
    "import math\n",
    "import os\n",
    "import copy\n",
    "import torch\n",
    "%matplotlib inline\n",
    "# def exit_time(dataset, model, config):\n",
    "#     if config.noise == \"iso\":\n",
    "#         config.batch_size = dataset.train.n\n",
    "#     origin = copy.deepcopy(model)\n",
    "#     loss_func = get_loss(config)\n",
    "#     optimizer = torch.optim.SGD(model.parameters(), lr=config.lr, weight_decay=1e-5, momentum=0.9)\n",
    "\n",
    "#     def step():\n",
    "#         model.train()\n",
    "#         measure = {'loss':0,'accuracy':0}\n",
    "#         random_index = torch.randperm(dataset.train.n)\n",
    "#         gd_model = copy.deepcopy(model)\n",
    "#         gd_model.zero_grad()\n",
    "#         # Full batch gradient\n",
    "#         x = dataset.train.x\n",
    "#         y = dataset.train.y\n",
    "#         o = gd_model(x)\n",
    "#         loss_func(o,y).backward()\n",
    "#         if config.noise == \"aniso\":\n",
    "#             sgd_model = copy.deepcopy(model)\n",
    "#             sgd_model.zero_grad()\n",
    "#             # Mini batch gradient\n",
    "#             mini_batch = random_index[:config.batch_size]\n",
    "#             x = dataset.train.x[mini_batch]\n",
    "#             y = dataset.train.y[mini_batch]\n",
    "#             o = sgd_model(x)\n",
    "#             loss_func(o,y).backward()\n",
    "#         if config.noise == \"iso\":\n",
    "#             with torch.no_grad():\n",
    "#                 for p, gd_p in zip(model.parameters(), gd_model.parameters()):\n",
    "#                     if p.requires_grad:\n",
    "#                         p -= config.lr*gd_p.grad\n",
    "#                         p += config.epsilon*torch.randn(p.shape).cuda()\n",
    "#         elif config.noise == \"aniso\":\n",
    "#             with torch.no_grad():\n",
    "#                 for p, gd_p, sgd_p in zip(model.parameters(), gd_model.parameters(), sgd_model.parameters()):\n",
    "#                     if p.requires_grad:\n",
    "#                         p -= config.lr*gd_p.grad\n",
    "#                         p -= config.epsilon*(sgd_p.grad - gd_p.grad)\n",
    "\n",
    "\n",
    "#     def l2_deviation():\n",
    "#         l2_distance = 0 \n",
    "#         for origin_param, perturbed_param in zip(origin.parameters(), model.parameters()) :\n",
    "#             deviation = perturbed_param.data - origin_param.data\n",
    "#             l2_distance += torch.norm(deviation, 2).item()\n",
    "#         return l2_distance\n",
    "\n",
    "#     iteration = 0\n",
    "#     while l2_deviation() < config.r:\n",
    "#         iteration += 1\n",
    "#         step()\n",
    "#     return iteration\n",
    "device = torch.device(\"cuda:0\" if torch.cuda.is_available() else \"cpu\")\n",
    "dtype = torch.float\n",
    "\n",
    "# -------------------------------------------------------------------    \n",
    "def get_mean_exit_step(config, lr, sharpness):\n",
    "    exit_steps_tmpsum = 0\n",
    "    sqrt_s = np.sqrt(sharpness)\n",
    "    for _ in range(config['exit_trial_num']):\n",
    "        exit_steps = 0\n",
    "        # Define Origin to a minimum\n",
    "        init_params = (-2.903534/sqrt_s) * torch.ones((1, config['num_dim']), device=device, dtype=dtype)\n",
    "        params = (-2.903534/sqrt_s) * torch.ones((1, config['num_dim']), device=device, dtype=dtype)\n",
    "        params.requires_grad=True\n",
    "        while(torch.norm(params-init_params) < config['r']):\n",
    "            ST_func = 0.5 * ((sqrt_s*params) ** 4 - 16 * (sqrt_s*params) ** 2 + 5 * (sqrt_s*params)).sum(dim=1)\n",
    "            ST_func.backward()\n",
    "            with torch.no_grad():\n",
    "                params -= lr*params.grad\n",
    "                params -= 0.1*torch.randn(10, device=device, dtype=dtype)\n",
    "            exit_steps += 1\n",
    "        exit_steps_tmpsum += exit_steps\n",
    "    return exit_steps_tmpsum / config['exit_trial_num']\n",
    "    \n",
    "\n",
    "import os\n",
    "import time\n",
    "import numpy as np\n",
    "import matplotlib.pyplot as plt\n",
    "import sys\n",
    "import optuna\n",
    "def main():\n",
    "\n",
    "    # Batch size\n",
    "    config = {}\n",
    "    config['core'] = 0\n",
    "    config['seed'] = -1\n",
    "    config['num_dim'] = 10\n",
    "    config['sharpness_min'] = 1\n",
    "    config['sharpness_interval'] = 1\n",
    "    config['r'] = 1\n",
    "    config['lr_min'] = 0.005\n",
    "    config['lr_interval'] = 0.1\n",
    "    config['exit_trial_num'] = 100\n",
    "\n",
    "    set_device(config)\n",
    "    plt.subplot(121)\n",
    "    data= np.zeros((0,2))\n",
    "    for sharpness in np.linspace(config['sharpness_min'], \n",
    "                                 config['sharpness_min']+config['sharpness_interval'],10):\n",
    "        mean_exit_step = get_mean_exit_step(config, config['lr_min'], sharpness)\n",
    "        data = np.append(data,[[sharpness, mean_exit_step]], axis=0)\n",
    "\n",
    "    ax1 = plt.subplot(1, 2, 1)\n",
    "    ax1.plot(data[:,0],data[:,1]) \n",
    "    x = data[:,0]\n",
    "    y = data[:,1]\n",
    "    A = np.vstack([x, np.ones(len(x))]).T\n",
    "    sharpness_m, _ = np.linalg.lstsq(A, y, rcond=None)[0]\n",
    "    study = optuna.create_study()\n",
    "    study.optimize(objective, n_trials=100)\n",
    "    # # Learning rate\n",
    "    # data= np.zeros((0,2))\n",
    "    # for lr in np.linspace(config['lr_min'],\n",
    "    #                       config['lr_min']+config['lr_interval'],10):\n",
    "    #     mean_exit_step = get_mean_exit_step(config, lr, config['sharpness_min'])\n",
    "    #     data = np.append(data,[[lr, mean_exit_step]], axis=0)\n",
    "    # ax2 = plt.subplot(1, 2, 2)\n",
    "    # ax2.plot(data[:,0],data[:,1])\n",
    "    # x = data[:,0]\n",
    "    # y = data[:,1]\n",
    "    # A = np.vstack([x, np.ones(len(x))]).T\n",
    "    # lr_m, _ = np.linalg.lstsq(A, y, rcond=None)[0]\n",
    "    \n",
    "\n",
    "if __name__=='__main__':\n",
    "    main()"
   ]
  },
  {
   "cell_type": "code",
   "execution_count": 26,
   "id": "4c852416-7a16-4864-89be-cfdf7f4adb70",
   "metadata": {},
   "outputs": [
    {
     "ename": "NameError",
     "evalue": "name 'data' is not defined",
     "output_type": "error",
     "traceback": [
      "\u001b[0;31m---------------------------------------------------------------------------\u001b[0m",
      "\u001b[0;31mNameError\u001b[0m                                 Traceback (most recent call last)",
      "\u001b[0;32m<ipython-input-26-e53921501100>\u001b[0m in \u001b[0;36m<module>\u001b[0;34m\u001b[0m\n\u001b[0;32m----> 1\u001b[0;31m \u001b[0mx\u001b[0m \u001b[0;34m=\u001b[0m \u001b[0mdata\u001b[0m\u001b[0;34m[\u001b[0m\u001b[0;34m:\u001b[0m\u001b[0;34m,\u001b[0m\u001b[0;36m0\u001b[0m\u001b[0;34m]\u001b[0m\u001b[0;34m\u001b[0m\u001b[0;34m\u001b[0m\u001b[0m\n\u001b[0m\u001b[1;32m      2\u001b[0m \u001b[0my\u001b[0m \u001b[0;34m=\u001b[0m \u001b[0mdata\u001b[0m\u001b[0;34m[\u001b[0m\u001b[0;34m:\u001b[0m\u001b[0;34m,\u001b[0m\u001b[0;36m1\u001b[0m\u001b[0;34m]\u001b[0m\u001b[0;34m\u001b[0m\u001b[0;34m\u001b[0m\u001b[0m\n\u001b[1;32m      3\u001b[0m \u001b[0mA\u001b[0m \u001b[0;34m=\u001b[0m \u001b[0mnp\u001b[0m\u001b[0;34m.\u001b[0m\u001b[0mvstack\u001b[0m\u001b[0;34m(\u001b[0m\u001b[0;34m[\u001b[0m\u001b[0mx\u001b[0m\u001b[0;34m,\u001b[0m \u001b[0mnp\u001b[0m\u001b[0;34m.\u001b[0m\u001b[0mones\u001b[0m\u001b[0;34m(\u001b[0m\u001b[0mlen\u001b[0m\u001b[0;34m(\u001b[0m\u001b[0mx\u001b[0m\u001b[0;34m)\u001b[0m\u001b[0;34m)\u001b[0m\u001b[0;34m]\u001b[0m\u001b[0;34m)\u001b[0m\u001b[0;34m.\u001b[0m\u001b[0mT\u001b[0m\u001b[0;34m\u001b[0m\u001b[0;34m\u001b[0m\u001b[0m\n\u001b[1;32m      4\u001b[0m \u001b[0mm\u001b[0m\u001b[0;34m,\u001b[0m \u001b[0m_\u001b[0m \u001b[0;34m=\u001b[0m \u001b[0mnp\u001b[0m\u001b[0;34m.\u001b[0m\u001b[0mlinalg\u001b[0m\u001b[0;34m.\u001b[0m\u001b[0mlstsq\u001b[0m\u001b[0;34m(\u001b[0m\u001b[0mA\u001b[0m\u001b[0;34m,\u001b[0m \u001b[0my\u001b[0m\u001b[0;34m,\u001b[0m \u001b[0mrcond\u001b[0m\u001b[0;34m=\u001b[0m\u001b[0;32mNone\u001b[0m\u001b[0;34m)\u001b[0m\u001b[0;34m[\u001b[0m\u001b[0;36m0\u001b[0m\u001b[0;34m]\u001b[0m\u001b[0;34m\u001b[0m\u001b[0;34m\u001b[0m\u001b[0m\n\u001b[1;32m      5\u001b[0m \u001b[0mprint\u001b[0m\u001b[0;34m(\u001b[0m\u001b[0mm\u001b[0m\u001b[0;34m)\u001b[0m\u001b[0;34m\u001b[0m\u001b[0;34m\u001b[0m\u001b[0m\n",
      "\u001b[0;31mNameError\u001b[0m: name 'data' is not defined"
     ]
    }
   ],
   "source": [
    "x = data[:,0]\n",
    "y = data[:,1]\n",
    "A = np.vstack([x, np.ones(len(x))]).T\n",
    "m, _ = np.linalg.lstsq(A, y, rcond=None)[0]\n",
    "print(m)"
   ]
  },
  {
   "cell_type": "code",
   "execution_count": 36,
   "id": "750e07bb-8111-4e2c-b66a-0af87a1669da",
   "metadata": {},
   "outputs": [
    {
     "data": {
      "text/plain": [
       "tensor([ 1.2116,  0.3913,  0.6523,  0.5276, -1.0883,  0.2050,  0.1202, -0.0065,\n",
       "        -1.5156,  0.4860])"
      ]
     },
     "execution_count": 36,
     "metadata": {},
     "output_type": "execute_result"
    }
   ],
   "source": [
    "torch.randn(10)"
   ]
  },
  {
   "cell_type": "code",
   "execution_count": null,
   "id": "8b29e6f1-7f67-43ad-91aa-bf908ac3dbff",
   "metadata": {},
   "outputs": [],
   "source": []
  }
 ],
 "metadata": {
  "kernelspec": {
   "display_name": "My env",
   "language": "python",
   "name": "myenv"
  },
  "language_info": {
   "codemirror_mode": {
    "name": "ipython",
    "version": 3
   },
   "file_extension": ".py",
   "mimetype": "text/x-python",
   "name": "python",
   "nbconvert_exporter": "python",
   "pygments_lexer": "ipython3",
   "version": "3.7.3"
  }
 },
 "nbformat": 4,
 "nbformat_minor": 5
}
