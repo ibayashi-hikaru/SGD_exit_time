{
 "cells": [
  {
   "cell_type": "code",
   "execution_count": 24,
   "id": "4ced193b-f640-4d92-a78f-0d47898d7771",
   "metadata": {},
   "outputs": [],
   "source": [
    "import torch\n",
    "import math\n",
    "import os\n",
    "import numpy as np\n",
    "from utility import *\n",
    "import matplotlib.pyplot as plt\n",
    "def optimize(dataset, model, config):\n",
    "    loss_func = get_loss(config)\n",
    "    optimizer = torch.optim.SGD(model.parameters(), lr=config[\"lr\"], weight_decay=1e-5, momentum=0.9)\n",
    "    scheduler = torch.optim.lr_scheduler.MultiStepLR(optimizer, milestones=[500,800], gamma=0.5)\n",
    "\n",
    "    def update():\n",
    "        model.train()\n",
    "        measure = {'loss':0,'accuracy':0}\n",
    "        index = torch.randperm(dataset.train.n)\n",
    "        for idx in torch.split(index, config[\"batch_size\"]):\n",
    "            optimizer.zero_grad()\n",
    "            x = dataset.train.x[idx]\n",
    "            y = dataset.train.y[idx]\n",
    "            o = model(x)\n",
    "            loss = loss_func(o,y)\n",
    "            loss.backward()            \n",
    "        optimizer.step()\n",
    "        scheduler.step()\n",
    "\n",
    "    def evaluate(data):\n",
    "        model.eval()\n",
    "        with torch.no_grad():\n",
    "            output    = model(data.x)            # logit\n",
    "            loss    = loss_func(output, data.y)\n",
    "            loss     = loss.item()\n",
    "            output    = output.max(dim=1)[1]            # logit -> index\n",
    "            correct    = (output==data.y) \n",
    "            accuracy   = correct.float().mean().item()    # bool -> int(0,1) -> float\n",
    "            return loss, accuracy\n",
    "\n",
    "    epoch = 0\n",
    "    trajectory = {\"train_loss\":[], \"test_loss\":[]}\n",
    "    while True:\n",
    "        epoch += 1\n",
    "        #\n",
    "        update()\n",
    "        #\n",
    "        status = {}\n",
    "        train_loss, train_acc = evaluate(dataset.train)\n",
    "        status['train'] = {'loss': train_loss, 'accuracy':  train_acc}\n",
    "        test_loss, test_acc = evaluate(dataset.test)\n",
    "        status['test'] = {'loss': test_loss, 'accuracy':  test_acc}\n",
    "        trajectory[\"test_loss\"].append(test_loss)\n",
    "        trajectory[\"train_loss\"].append(train_loss)\n",
    "        # Dump Log\n",
    "        if epoch % 100 == 0:\n",
    "            report(f'epoch:{epoch}')\n",
    "            for mode in ['train','test']:\n",
    "                message     = [f'\\t{mode:5}']\n",
    "                message    += [f\"loss:{status[mode]['loss']: 18.7f}\"]\n",
    "                message    += [f\"accuracy:{status[mode]['accuracy']: 9.7f}\"]\n",
    "                report(*message)\n",
    "        assert not math.isnan(status['train']['loss']), 'find nan in train-loss'\n",
    "        assert not math.isnan(status['test']['loss']),  'find nan in test-loss'\n",
    "        if epoch == config['epoch']: return trajectory\n",
    "\n"
   ]
  },
  {
   "cell_type": "code",
   "execution_count": 25,
   "id": "eb7c05b6-f134-4ff5-a86b-59c7307baa81",
   "metadata": {},
   "outputs": [
    {
     "name": "stdout",
     "output_type": "stream",
     "text": [
      "2022-01-07 10:27:04.679967 use GPU; core:0\n",
      "Files already downloaded and verified\n",
      "Files already downloaded and verified\n"
     ]
    },
    {
     "data": {
      "image/png": "[encoded data removed]",
      "text/plain": [
       "<Figure size 432x288 with 1 Axes>"
      ]
     },
     "metadata": {
      "needs_background": "light"
     },
     "output_type": "display_data"
    }
   ],
   "source": [
    "#!/usr/bin/env python\n",
    "# coding: utf-8\n",
    "# import optuna\n",
    "# study = optuna.create_study()\n",
    "# study.optimize(objective, n_trials=100)\n",
    "# config['batch_size'] = trial.suggest_float(\"lr\", 1, 2**10)\n",
    "\n",
    "config = {}\n",
    "# general\n",
    "config['model'] = 'MLP'\n",
    "config[\"core\"]  = 0\n",
    "config['data']  = 'CIFAR10'\n",
    "config['batch_size'] = 2**7\n",
    "config['sharpness'] = 1\n",
    "config['lr'] = 1e-2\n",
    "config['loss'] = \"MSE\"\n",
    "config['epoch'] = 50\n",
    "\n",
    "set_device(config)\n",
    "dataset = get_dataset(config)\n",
    "model = get_model(config)\n",
    "trajectory = optimize(dataset, model, config)\n",
    "fig = plt.figure()\n",
    "ax = fig.add_subplot(111)\n",
    "ax.plot(trajectory[\"train_loss\"], label=\"Train Loss\")\n",
    "ax.plot(trajectory[\"test_loss\"], label=\"Test Loss\")\n",
    "ax.set_ylabel('Loss')\n",
    "ax.set_xlabel('Epochs')\n",
    "ax.set_ylim([0, 0.1])\n",
    "ax.legend(loc=\"upper left\")\n",
    "fig.show()\n",
    "\n"
   ]
  },
  {
   "cell_type": "code",
   "execution_count": 11,
   "id": "c50b05db-221e-47a3-bbfd-1a1a8587cefb",
   "metadata": {},
   "outputs": [
    {
     "data": {
      "image/png": "[encoded data removed]",
      "text/plain": [
       "<Figure size 432x288 with 1 Axes>"
      ]
     },
     "metadata": {
      "needs_background": "light"
     },
     "output_type": "display_data"
    }
   ],
   "source": [
    "import matplotlib.pyplot as plt\n",
    "import numpy as np\n",
    "\n",
    "x = np.linspace(0, 6*np.pi, 100)\n",
    "y = np.sin(x)\n",
    "\n",
    "# You probably won't need this if you're embedding things in a tkinter plot...\n",
    "plt.ion()\n",
    "\n",
    "fig = plt.figure()\n",
    "ax = fig.add_subplot(111)\n",
    "line1, = ax.plot(x, y, 'r-') # Returns a tuple of line objects, thus the comma\n",
    "\n",
    "\n",
    "line1.set_ydata(np.sin(x + 20))\n",
    "fig.canvas.draw()\n",
    "fig.canvas.flush_events()"
   ]
  },
  {
   "cell_type": "code",
   "execution_count": 13,
   "id": "b3107d2e-17a2-4b58-a67f-0acc79fd38df",
   "metadata": {},
   "outputs": [
    {
     "data": {
      "text/plain": [
       "1"
      ]
     },
     "execution_count": 13,
     "metadata": {},
     "output_type": "execute_result"
    }
   ],
   "source": [
    "np.abs(-1)"
   ]
  },
  {
   "cell_type": "code",
   "execution_count": null,
   "id": "de0dcabf-89b0-40fe-95e2-755f798f4ec0",
   "metadata": {},
   "outputs": [],
   "source": []
  }
 ],
 "metadata": {
  "kernelspec": {
   "display_name": "exit_time",
   "language": "python",
   "name": "exit_time"
  },
  "language_info": {
   "codemirror_mode": {
    "name": "ipython",
    "version": 3
   },
   "file_extension": ".py",
   "mimetype": "text/x-python",
   "name": "python",
   "nbconvert_exporter": "python",
   "pygments_lexer": "ipython3",
   "version": "3.7.3"
  }
 },
 "nbformat": 4,
 "nbformat_minor": 5
}
